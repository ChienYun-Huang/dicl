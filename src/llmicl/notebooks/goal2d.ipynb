{
 "cells": [
  {
   "cell_type": "code",
   "execution_count": 4,
   "id": "0f726729-f018-4c90-b36c-1b52aa78c223",
   "metadata": {},
   "outputs": [],
   "source": [
    "import copy\n",
    "import os\n",
    "from typing import Optional, Tuple\n",
    "\n",
    "import gym\n",
    "import numpy as np\n",
    "from gym.core import ObsType\n",
    "\n",
    "import torch\n",
    "\n",
    "# from augment.dim_reduction.autoencoders import VAE\n",
    "# from augment.rl.algs.td3 import TD3\n",
    "\n",
    "\n",
    "ENVS_DIR = '.'\n",
    "\n",
    "\n",
    "class MyEnv(gym.Env):\n",
    "    def __init__(self, rbf_n, d_fourier=None, neural=False):\n",
    "\n",
    "        self.rbf_n = rbf_n\n",
    "        self.d_fourier = d_fourier\n",
    "        self.neural_features = None\n",
    "        if self.d_fourier:\n",
    "            print(d_fourier)\n",
    "            self.d_fourier, self.sigma = d_fourier\n",
    "            self.original_obs_dim = self.observation_space.shape[-1]\n",
    "            self.observation_space = gym.spaces.Box(low=-1, high=+1, shape=(self.d_fourier+self.original_obs_dim,))\n",
    "\n",
    "            load_dir = f'{ENVS_DIR}/fourier_basis/obs_dim_{self.original_obs_dim}/d_fourier_{self.d_fourier}/sigma_{self.sigma}'\n",
    "            self.B = np.load(f'{load_dir}/B.npy')\n",
    "\n",
    "        elif self.rbf_n:\n",
    "            self.original_obs_dim = self.observation_space.shape[-1]\n",
    "            self.observation_space = gym.spaces.Box(low=-1, high=+1, shape=(2*self.rbf_n,))\n",
    "\n",
    "            load_dir = f'{ENVS_DIR}/rbf_basis/obs_dim_{self.original_obs_dim}/n_{rbf_n}/'\n",
    "            self.P = np.load(f'{load_dir}/P.npy')\n",
    "            self.phi = np.load(f'{load_dir}/phi.npy')\n",
    "            self.nu = np.load(f'{load_dir}/nu.npy')\n",
    "\n",
    "            print(self.nu)\n",
    "\n",
    "            self.obs = None\n",
    "            \n",
    "    def _get_obs(self):\n",
    "        if self.d_fourier:\n",
    "            x = self.obs\n",
    "            Bx = self.B.dot(x)\n",
    "            fourier_obs = np.concatenate([np.sin(2*np.pi*Bx), np.cos(2*np.pi*Bx), x])\n",
    "            return fourier_obs\n",
    "        elif self.rbf_n:\n",
    "            return self._rbf(self.obs)\n",
    "        elif self.neural_features:\n",
    "            obs = torch.from_numpy(self.obs).float()\n",
    "            features = self.neural_features(obs)\n",
    "            # print(features.detach().numpy())\n",
    "            return features.detach().numpy()\n",
    "        else:\n",
    "            return self.obs\n",
    "\n",
    "    def _rbf(self, obs):\n",
    "        sin = np.sin(self.P.dot(obs)/np.sqrt(self.rbf_n) + self.phi)\n",
    "        cos = np.cos(self.P.dot(obs)/np.sqrt(self.rbf_n) + self.phi)\n",
    "        return np.concatenate((sin, cos))\n",
    "\n",
    "    def _rbf_inverse(self, rbf_obs):\n",
    "        return np.atanh(self.P.dot(rbf_obs)/self.nu + self.phi)\n",
    "\n",
    "\n",
    "class Goal2DEnv(MyEnv):\n",
    "    def __init__(self, delta=0.025, sparse=1, rbf_n=None, d_fourier=None, neural=False, d=1, quadrant=False, center=False):\n",
    "\n",
    "        self.n = 2\n",
    "        self.action_space = gym.spaces.Box(low=np.zeros(2), high=np.array([1, 2 * np.pi]), shape=(self.n,))\n",
    "\n",
    "        self.boundary = 1.05\n",
    "        self.observation_space = gym.spaces.Box(-self.boundary, +self.boundary, shape=(2 * self.n,), dtype=\"float64\")\n",
    "\n",
    "        self.step_num = 0\n",
    "        self.delta = delta\n",
    "\n",
    "        self.sparse = sparse\n",
    "        self.d = d\n",
    "        self.x_norm = None\n",
    "        self.quadrant = quadrant\n",
    "        self.center = center\n",
    "        super().__init__(rbf_n=rbf_n, d_fourier=d_fourier, neural=neural)\n",
    "\n",
    "    def _clip_position(self):\n",
    "        # Note: clipping makes dynamics nonlinear\n",
    "        self.x = np.clip(self.x, -self.boundary, +self.boundary)\n",
    "\n",
    "    def step(self, a):\n",
    "\n",
    "        self.step_num += 1\n",
    "        ux = a[0] * np.cos(a[1])\n",
    "        uy = a[0] * np.sin(a[1])\n",
    "        u = np.array([ux, uy])\n",
    "\n",
    "        self.x += u * self.delta\n",
    "        self._clip_position()\n",
    "\n",
    "        dist = np.linalg.norm(self.x - self.goal)\n",
    "        terminated = dist < 0.05\n",
    "        truncated = False\n",
    "\n",
    "        if self.sparse:\n",
    "            reward = +1.0 if terminated else -0.1\n",
    "        else:\n",
    "            reward = -dist\n",
    "\n",
    "        info = {}\n",
    "        self.obs = np.concatenate((self.x, self.goal))\n",
    "        return self._get_obs(), reward, terminated, truncated, info\n",
    "\n",
    "    def _sample_goal(self):\n",
    "        goal = np.random.uniform(low=-self.d, high=self.d, size=(self.n,))\n",
    "        if self.quadrant:\n",
    "            goal = np.random.uniform(low=0, high=1, size=(self.n,))\n",
    "        return goal\n",
    "\n",
    "    def reset(\n",
    "        self,\n",
    "        *,\n",
    "        seed: Optional[int] = None,\n",
    "        options: Optional[dict] = None,\n",
    "    ) -> Tuple[ObsType, dict]:\n",
    "\n",
    "        self.step_num = 0\n",
    "\n",
    "        self.x = np.random.uniform(-1, 1, size=(self.n,))\n",
    "        self.goal = self._sample_goal()\n",
    "\n",
    "        dist = np.linalg.norm(self.x - self.goal)\n",
    "        while dist < 0.05:\n",
    "            self.goal =self._sample_goal()\n",
    "            dist = np.linalg.norm(self.x - self.goal)\n",
    "\n",
    "        self.obs = np.concatenate((self.x, self.goal))\n",
    "        return self._get_obs(), {}\n",
    "\n",
    "    def set_state(self, pos, goal):\n",
    "        self.x = pos\n",
    "        self.goal = goal\n",
    "\n",
    "\n",
    "class Goal2DQuadrantEnv(Goal2DEnv):\n",
    "    def __init__(self, d=1, rbf_n=None, d_fourier=None, neural=False):\n",
    "        super().__init__(delta=0.025, sparse=1, rbf_n=rbf_n, d_fourier=d_fourier, neural=neural, d=d, quadrant=True)"
   ]
  },
  {
   "cell_type": "code",
   "execution_count": 5,
   "id": "0067115c-93a3-4788-bb1a-0d9d388d5997",
   "metadata": {},
   "outputs": [
    {
     "name": "stderr",
     "output_type": "stream",
     "text": [
      "/home/abenechehab/miniconda3/envs/cleanrl/lib/python3.9/site-packages/gym/spaces/box.py:84: UserWarning: \u001b[33mWARN: Box bound precision lowered by casting to float32\u001b[0m\n",
      "  logger.warn(f\"Box bound precision lowered by casting to {self.dtype}\")\n"
     ]
    }
   ],
   "source": [
    "env = Goal2DEnv()"
   ]
  },
  {
   "cell_type": "code",
   "execution_count": 6,
   "id": "6258f60c-395c-45a9-9fc5-ee4a59c6e9fe",
   "metadata": {},
   "outputs": [
    {
     "data": {
      "text/plain": [
       "(array([-0.11326975,  0.48898916,  0.36800032,  0.97966751]), {})"
      ]
     },
     "execution_count": 6,
     "metadata": {},
     "output_type": "execute_result"
    }
   ],
   "source": [
    "env.reset()"
   ]
  },
  {
   "cell_type": "code",
   "execution_count": 18,
   "id": "a4a18582-9af0-401f-8f5d-77d8a94cd18e",
   "metadata": {},
   "outputs": [
    {
     "data": {
      "text/plain": [
       "Box(-1.05, 1.05, (4,), float64)"
      ]
     },
     "execution_count": 18,
     "metadata": {},
     "output_type": "execute_result"
    }
   ],
   "source": [
    "env.observation_space"
   ]
  },
  {
   "cell_type": "code",
   "execution_count": 8,
   "id": "8a4ed95f-9cfb-42b2-8139-a3f171e718f0",
   "metadata": {},
   "outputs": [
    {
     "data": {
      "text/plain": [
       "Box(0.0, [1.        6.2831855], (2,), float32)"
      ]
     },
     "execution_count": 8,
     "metadata": {},
     "output_type": "execute_result"
    }
   ],
   "source": [
    "env.action_space"
   ]
  },
  {
   "cell_type": "code",
   "execution_count": 11,
   "id": "16a3fe5a-4155-4561-b54c-85e4e8c2ccf4",
   "metadata": {},
   "outputs": [
    {
     "data": {
      "text/plain": [
       "(array([-0.10229997,  0.49498198,  0.36800032,  0.97966751]),\n",
       " -0.1,\n",
       " False,\n",
       " False,\n",
       " {})"
      ]
     },
     "execution_count": 11,
     "metadata": {},
     "output_type": "execute_result"
    }
   ],
   "source": [
    "env.step(np.array([0.5,0.5]))"
   ]
  },
  {
   "cell_type": "code",
   "execution_count": 15,
   "id": "33b1de41-9a05-4874-a28a-e32051728f85",
   "metadata": {},
   "outputs": [
    {
     "data": {
      "text/plain": [
       "array([0.36800032, 0.97966751])"
      ]
     },
     "execution_count": 15,
     "metadata": {},
     "output_type": "execute_result"
    }
   ],
   "source": [
    "env.goal"
   ]
  },
  {
   "cell_type": "code",
   "execution_count": 16,
   "id": "928d1c08-6874-446f-a29c-a126f5f60b44",
   "metadata": {},
   "outputs": [],
   "source": [
    "import matplotlib.pyplot as plt"
   ]
  },
  {
   "cell_type": "code",
   "execution_count": 22,
   "id": "27d500fe-03d9-4b96-8868-1eb80a2815f3",
   "metadata": {},
   "outputs": [
    {
     "data": {
      "image/png": "[encoded data removed]",
      "text/plain": [
       "<Figure size 300x300 with 1 Axes>"
      ]
     },
     "metadata": {},
     "output_type": "display_data"
    }
   ],
   "source": [
    "# Reset the environment to get the initial state\n",
    "state, _ = env.reset()\n",
    "\n",
    "# Get the observation space limits\n",
    "obs_space = env.observation_space\n",
    "obs_low = obs_space.low\n",
    "obs_high = obs_space.high\n",
    "\n",
    "# Get the goal\n",
    "goal = env.goal\n",
    "\n",
    "# Initialize lists to store the states and actions\n",
    "states = [state]\n",
    "actions = []\n",
    "\n",
    "# Simulate the agent taking random actions\n",
    "num_steps = 10  # Number of steps to simulate\n",
    "for _ in range(num_steps):\n",
    "    action = env.action_space.sample()\n",
    "    actions.append(action)\n",
    "    next_state, reward, terminated, truncated, _ = env.step(action)\n",
    "    states.append(next_state)\n",
    "    if terminated or truncated:\n",
    "        break\n",
    "\n",
    "# Convert states to a numpy array for easier plotting\n",
    "states = np.array(states)\n",
    "\n",
    "# Plot the state space and the goal\n",
    "plt.figure(figsize=(3, 3))\n",
    "plt.xlim(obs_low[0], obs_high[0])\n",
    "plt.ylim(obs_low[1], obs_high[1])\n",
    "plt.gca().set_aspect('equal', adjustable='box')\n",
    "\n",
    "# Plot the goal as a star\n",
    "plt.plot(goal[0], goal[1], '*', markersize=15, color='red', label='Goal')\n",
    "\n",
    "# Plot the states as small dots\n",
    "plt.plot(states[:, 0], states[:, 1], 'o', markersize=5, color='blue', label='States')\n",
    "\n",
    "# Plot segments linking the states\n",
    "for i in range(len(states) - 1):\n",
    "    plt.plot([states[i, 0], states[i + 1, 0]], [states[i, 1], states[i + 1, 1]], 'k-', linewidth=1)\n",
    "\n",
    "# Add labels and legend\n",
    "plt.xlabel('State Dimension 1')\n",
    "plt.ylabel('State Dimension 2')\n",
    "plt.title('Goal2d Environment Visualization')\n",
    "plt.legend()\n",
    "\n",
    "# Show the plot\n",
    "plt.show()\n"
   ]
  },
  {
   "cell_type": "code",
   "execution_count": 21,
   "id": "3feee3fc-c636-4d03-b0fc-4edcac9bb4f8",
   "metadata": {},
   "outputs": [
    {
     "data": {
      "text/plain": [
       "array([0.6339286, 5.175787 ], dtype=float32)"
      ]
     },
     "execution_count": 21,
     "metadata": {},
     "output_type": "execute_result"
    }
   ],
   "source": [
    "env.action_space.sample()"
   ]
  },
  {
   "cell_type": "code",
   "execution_count": null,
   "id": "10dfc56f-7ae7-4c7d-bece-68bee7baf7a2",
   "metadata": {},
   "outputs": [],
   "source": []
  }
 ],
 "metadata": {
  "kernelspec": {
   "display_name": "Python [conda env:cleanrl]",
   "language": "python",
   "name": "conda-env-cleanrl-py"
  },
  "language_info": {
   "codemirror_mode": {
    "name": "ipython",
    "version": 3
   },
   "file_extension": ".py",
   "mimetype": "text/x-python",
   "name": "python",
   "nbconvert_exporter": "python",
   "pygments_lexer": "ipython3",
   "version": "3.9.19"
  }
 },
 "nbformat": 4,
 "nbformat_minor": 5
}
