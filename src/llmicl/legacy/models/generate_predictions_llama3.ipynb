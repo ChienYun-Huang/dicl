{
 "cells": [
  {
   "cell_type": "code",
   "execution_count": 31,
   "metadata": {},
   "outputs": [],
   "source": [
    "continuous_series_names = [\n",
    "    # 'quadr_small_ref',\n",
    "    # 'brownian_motion', \n",
    "    # 'geometric_brownian_motion',\n",
    "    # 'noisy_logistic_map',\n",
    "    # 'logistic_map',\n",
    "    # 'lorenz_system',\n",
    "    # 'uncorrelated_gaussian',\n",
    "    # 'uncorrelated_uniform'\n",
    "    'gym_halfcheetah_full'\n",
    "]\n",
    "markov_chain_names = ['markov_chain']\n",
    "\n",
    "import numpy as np\n",
    "\n",
    "### Set up directory\n",
    "import sys\n",
    "import os\n",
    "os.environ[\"CUDA_VISIBLE_DEVICES\"] = \"3,4,5\"\n",
    "from pathlib import Path\n",
    "parent_dir = os.path.dirname(os.getcwd())\n",
    "sys.path.append(parent_dir)\n",
    "\n",
    "from tqdm import tqdm\n",
    "import pickle\n",
    "import torch\n",
    "from llama import get_model_and_tokenizer\n",
    "from ICL import MultiResolutionPDF, recursive_refiner, trim_kv_cache, recursive_refiner_preprompt\n",
    "\n",
    "# Check if directory exists, if not create it\n",
    "save_path = Path(parent_dir) / 'processed_series_llama3'\n",
    "if not os.path.exists(save_path):\n",
    "    os.makedirs(save_path)\n",
    "    \n",
    "# Define the directory where the generated series are stored\n",
    "generated_series_dir = Path(parent_dir) / 'generated_series_RL'"
   ]
  },
  {
   "cell_type": "code",
   "execution_count": 32,
   "metadata": {},
   "outputs": [],
   "source": [
    "def calculate_Markov(full_series, llama_size = '13b'):\n",
    "    '''\n",
    "     This function calculates the multi-resolution probability density function (PDF) for a given series.\n",
    "\n",
    "     Parameters:\n",
    "     full_series (str): The series for which the PDF is to be calculated.\n",
    "     llama_size (str, optional): The size of the llama model. Defaults to '13b'.\n",
    "\n",
    "     Returns:\n",
    "\n",
    "    '''\n",
    "    model, tokenizer = get_model_and_tokenizer(llama_size)\n",
    "    states = sorted(set(full_series))\n",
    "    good_tokens = [tokenizer.convert_tokens_to_ids(state) for state in states]\n",
    "    batch = tokenizer(\n",
    "        [full_series], \n",
    "        return_tensors=\"pt\",\n",
    "        add_special_tokens=True,        \n",
    "    )\n",
    "    torch.cuda.empty_cache()\n",
    "    with torch.no_grad():\n",
    "        out = model(batch['input_ids'].cpu())\n",
    "    logit_mat = out['logits']\n",
    "    logit_mat_good = logit_mat[:,:,good_tokens].cpu()\n",
    "\n",
    "    return logit_mat_good\n",
    "\n",
    "def calculate_multiPDF_llama3(\n",
    "    full_series, temperature=1.0, number_of_tokens_original=None\n",
    "):\n",
    "    '''\n",
    "     This function calculates the multi-resolution probability density function (PDF) for a given series.\n",
    "\n",
    "     Parameters:\n",
    "     full_series (str): The series for which the PDF is to be calculated.\n",
    "     prec (int): The precision of the PDF.\n",
    "     mode (str, optional): The mode of calculation. Defaults to 'neighbor'.\n",
    "     refine_depth (int, optional): The depth of refinement for the PDF. Defaults to 1.\n",
    "     llama_size (str, optional): The size of the llama model. Defaults to '13b'.\n",
    "        \n",
    "     Returns:\n",
    "     list: A list of PDFs for the series.\n",
    "    '''\n",
    "    good_tokens_str = []\n",
    "    for num in range(1000):\n",
    "        good_tokens_str.append(str(num))\n",
    "    good_tokens = [tokenizer.convert_tokens_to_ids(token) for token in good_tokens_str]\n",
    "\n",
    "    batch = tokenizer(\n",
    "        [full_series],\n",
    "        return_tensors=\"pt\",\n",
    "        add_special_tokens=True        \n",
    "    )\n",
    "\n",
    "    torch.cuda.empty_cache()\n",
    "    with torch.no_grad():\n",
    "        out = model(batch['input_ids'].cuda())  # use_cache=True)\n",
    "    \n",
    "    logit_mat = out['logits']\n",
    "    \n",
    "    # kv_cache_main = out['past_key_values']\n",
    "    logit_mat_good = logit_mat[:,:,good_tokens].clone()\n",
    "    \n",
    "    if number_of_tokens_original:\n",
    "        probs = torch.nn.functional.softmax(logit_mat_good[:,-(number_of_tokens_original-1):,:] / temperature, dim=-1)\n",
    "    else:\n",
    "        probs = torch.nn.functional.softmax(logit_mat_good[:,1:,:] / temperature, dim=-1)\n",
    "    \n",
    "    \n",
    "    PDF_list = []\n",
    "    \n",
    "    # start_loop_from = 1 if use_instruct else 0\n",
    "    for i in tqdm(range(1,int(probs.shape[1]),2)):\n",
    "        PDF = MultiResolutionPDF()\n",
    "        PDF.bin_center_arr = np.arange(0,1000) / 100\n",
    "        PDF.bin_width_arr = np.array(1000*[0.01])\n",
    "        PDF.bin_height_arr = probs[0,i,:].cpu().numpy() * 100\n",
    "\n",
    "        PDF_list.append(PDF)\n",
    "    \n",
    "    # release memory\n",
    "    del logit_mat  #, kv_cache_main\n",
    "    return PDF_list"
   ]
  },
  {
   "cell_type": "code",
   "execution_count": 3,
   "metadata": {},
   "outputs": [
    {
     "name": "stderr",
     "output_type": "stream",
     "text": [
      "Special tokens have been added in the vocabulary, make sure the associated word embeddings are fine-tuned or trained.\n"
     ]
    },
    {
     "data": {
      "application/vnd.jupyter.widget-view+json": {
       "model_id": "32dad59f836646699507a3fd99019fee",
       "version_major": 2,
       "version_minor": 0
      },
      "text/plain": [
       "Loading checkpoint shards:   0%|          | 0/4 [00:00<?, ?it/s]"
      ]
     },
     "metadata": {},
     "output_type": "display_data"
    }
   ],
   "source": [
    "model, tokenizer = get_model_and_tokenizer('7b')"
   ]
  },
  {
   "cell_type": "code",
   "execution_count": 33,
   "metadata": {},
   "outputs": [],
   "source": [
    "# Initialize dictionaries to store the data for continuous series and Markov chains\n",
    "continuous_series_task = {}\n",
    "markov_chain_task = {}\n",
    "\n",
    "# Loop through each file in the directory\n",
    "for file in generated_series_dir.iterdir():\n",
    "    # Check if a series is already processed\n",
    "    # if not (save_path / file.name).exists():\\\n",
    "    # Extract the series name from the file name\n",
    "    series_name = file.stem.rsplit('_', 1)[0]\n",
    "    # If the series is a continuous series, load the data into the continuous_series_data dictionary\n",
    "    if series_name in continuous_series_names:\n",
    "        continuous_series_task[file.name] = pickle.load(file.open('rb'))\n",
    "    # If the series is a Markov chain, load the data into the markov_chain_data dictionary\n",
    "    elif series_name in markov_chain_names:\n",
    "        markov_chain_task[file.name] = pickle.load(file.open('rb'))\n",
    "    # If the series name is not recognized, raise an exception\n",
    "    # else:\n",
    "    #     raise Exception(f\"Unrecognized series name: {series_name}\")"
   ]
  },
  {
   "cell_type": "code",
   "execution_count": 34,
   "metadata": {},
   "outputs": [
    {
     "name": "stdout",
     "output_type": "stream",
     "text": [
      "dict_keys(['gym_halfcheetah_full_0.pkl'])\n",
      "dict_keys([])\n"
     ]
    }
   ],
   "source": [
    "print(continuous_series_task.keys())\n",
    "print(markov_chain_task.keys())"
   ]
  },
  {
   "cell_type": "markdown",
   "metadata": {},
   "source": [
    "### Analyze Multi Digit series"
   ]
  },
  {
   "cell_type": "code",
   "execution_count": 35,
   "metadata": {},
   "outputs": [
    {
     "name": "stdout",
     "output_type": "stream",
     "text": [
      "Processing  gym_halfcheetah_full_0.pkl\n",
      "full_series: 514,513,51\n",
      "number_of_tokens_original: 7501\n",
      "comma token: [128000, 11]\n"
     ]
    },
    {
     "name": "stderr",
     "output_type": "stream",
     "text": [
      "100%|█████████████████████████████████████████████████████████████████████████████████████████████████████| 3750/3750 [00:00<00:00, 7539.62it/s]\n",
      "100%|█████████████████████████████████████████████████████████████████████████████████████████████████████| 3750/3750 [00:00<00:00, 7220.36it/s]\n",
      "100%|█████████████████████████████████████████████████████████████████████████████████████████████████████| 3750/3750 [00:00<00:00, 7829.89it/s]\n",
      "100%|█████████████████████████████████████████████████████████████████████████████████████████████████████| 3750/3750 [00:00<00:00, 5045.48it/s]\n",
      "100%|█████████████████████████████████████████████████████████████████████████████████████████████████████| 3750/3750 [00:00<00:00, 7856.89it/s]\n",
      "100%|█████████████████████████████████████████████████████████████████████████████████████████████████████| 3750/3750 [00:00<00:00, 7291.79it/s]\n"
     ]
    }
   ],
   "source": [
    "T = 1.0\n",
    "T_list = [0.5, 0.8, 1.0, 1.5, 2.0, 2.5]\n",
    "# T_list = [1.0]\n",
    "number_of_tokens_original = None\n",
    "pre_prompt = \"\"\n",
    "for series_name, series_dict in sorted(continuous_series_task.items()):\n",
    "    print(\"Processing \", series_name)\n",
    "    # if 'lorenz_system' in series_name:\n",
    "    full_series = series_dict['full_series']\n",
    "    print(f\"full_series: {full_series[:10]}\")\n",
    "    prec = series_dict['prec']\n",
    "    refine_depth = series_dict['refine_depth']\n",
    "    llama_size = series_dict['llama_size']\n",
    "    mode = series_dict['mode']\n",
    "    number_of_tokens_original = len(tokenizer(full_series)['input_ids']) \n",
    "    print(f\"number_of_tokens_original: {number_of_tokens_original}\")\n",
    "    print(f\"comma token: {tokenizer(',')['input_ids']}\")\n",
    "    for T in T_list:\n",
    "        PDF_list = calculate_multiPDF_llama3(\n",
    "            pre_prompt+full_series,\n",
    "            temperature=T,\n",
    "            number_of_tokens_original=number_of_tokens_original\n",
    "        )\n",
    "        series_dict['PDF_list'] = PDF_list\n",
    "        save_name = os.path.join(save_path, f\"{series_name.split('.')[0]}_llama3_temp_{T}_preprompt.pkl\")\n",
    "        # save_name = os.path.join(save_path, series_name)\n",
    "        with open(save_name, 'wb') as f:\n",
    "            pickle.dump(series_dict, f)"
   ]
  },
  {
   "cell_type": "code",
   "execution_count": 22,
   "metadata": {},
   "outputs": [
    {
     "data": {
      "text/plain": [
       "[<matplotlib.lines.Line2D at 0x7fee9912b6d0>]"
      ]
     },
     "execution_count": 22,
     "metadata": {},
     "output_type": "execute_result"
    },
    {
     "data": {
      "image/png": "[encoded data removed]",
      "text/plain": [
       "<Figure size 640x480 with 1 Axes>"
      ]
     },
     "metadata": {},
     "output_type": "display_data"
    }
   ],
   "source": [
    "import matplotlib.pyplot as plt\n",
    "x_lim = 999\n",
    "plt.plot(np.arange(x_lim), probs[0,90,:x_lim].cpu().numpy())"
   ]
  },
  {
   "cell_type": "markdown",
   "metadata": {},
   "source": [
    "### Analyze Markov Series"
   ]
  },
  {
   "cell_type": "code",
   "execution_count": 22,
   "metadata": {},
   "outputs": [
    {
     "name": "stdout",
     "output_type": "stream",
     "text": [
      "Processing  markov_chain_0.pkl\n"
     ]
    },
    {
     "name": "stderr",
     "output_type": "stream",
     "text": [
      "Loading checkpoint shards: 100%|██████████████████████████████████████████████████████████████| 2/2 [00:05<00:00,  2.89s/it]\n"
     ]
    }
   ],
   "source": [
    "for series_name, series_dict in sorted(markov_chain_task.items()):\n",
    "    print(\"Processing \", series_name)\n",
    "    full_series = series_dict['full_series']\n",
    "    llama_size = series_dict['llama_size']\n",
    "    logit_mat_good = calculate_Markov(full_series, llama_size = llama_size)    \n",
    "    series_dict['logit_mat_good'] = logit_mat_good\n",
    "    save_name = os.path.join(save_path, series_name)\n",
    "    with open(save_name, 'wb') as f:\n",
    "        pickle.dump(series_dict, f)\n",
    "    break"
   ]
  },
  {
   "cell_type": "code",
   "execution_count": null,
   "metadata": {},
   "outputs": [],
   "source": []
  }
 ],
 "metadata": {
  "kernelspec": {
   "display_name": "Python [conda env:LLMICL]",
   "language": "python",
   "name": "conda-env-LLMICL-py"
  },
  "language_info": {
   "codemirror_mode": {
    "name": "ipython",
    "version": 3
   },
   "file_extension": ".py",
   "mimetype": "text/x-python",
   "name": "python",
   "nbconvert_exporter": "python",
   "pygments_lexer": "ipython3",
   "version": "3.9.19"
  }
 },
 "nbformat": 4,
 "nbformat_minor": 4
}
