{
 "cells": [
  {
   "cell_type": "code",
   "execution_count": 1,
   "id": "472c920c-0b1b-4e97-bbf0-04d16261e5e4",
   "metadata": {},
   "outputs": [],
   "source": [
    "import numpy as np\n",
    "import pandas as pd\n",
    "import matplotlib.pyplot as plt\n",
    "\n",
    "import copy\n",
    "\n",
    "### Set up directory\n",
    "import sys\n",
    "import os\n",
    "os.environ[\"CUDA_VISIBLE_DEVICES\"] = \"3,4,5\"\n",
    "from pathlib import Path\n",
    "parent_dir = os.path.dirname(os.getcwd())\n",
    "sys.path.append(parent_dir)\n",
    "\n",
    "from tqdm import tqdm\n",
    "\n",
    "import gymnasium as gym\n",
    "\n",
    "from llama import get_model_and_tokenizer\n",
    "from data.serialize import serialize_arr, deserialize_str, SerializerSettings\n",
    "\n",
    "from rl_utils import serialize_gaussian, icl_prediction"
   ]
  },
  {
   "cell_type": "code",
   "execution_count": 2,
   "id": "f5f10a9c-9a63-4c79-9200-d767380d4db2",
   "metadata": {},
   "outputs": [
    {
     "name": "stderr",
     "output_type": "stream",
     "text": [
      "Special tokens have been added in the vocabulary, make sure the associated word embeddings are fine-tuned or trained.\n"
     ]
    },
    {
     "data": {
      "application/vnd.jupyter.widget-view+json": {
       "model_id": "706d591f68a5415d983c990d34f3673f",
       "version_major": 2,
       "version_minor": 0
      },
      "text/plain": [
       "Loading checkpoint shards:   0%|          | 0/4 [00:00<?, ?it/s]"
      ]
     },
     "metadata": {},
     "output_type": "display_data"
    }
   ],
   "source": [
    "model, tokenizer = get_model_and_tokenizer('7b')"
   ]
  },
  {
   "cell_type": "code",
   "execution_count": 3,
   "id": "4ab2ef42-cd84-4e93-a154-7c8f3f301e15",
   "metadata": {},
   "outputs": [
    {
     "name": "stderr",
     "output_type": "stream",
     "text": [
      "Setting `pad_token_id` to `eos_token_id`:128001 for open-end generation.\n",
      "/home/abenechehab/miniforge3/envs/LLMICL/lib/python3.9/site-packages/transformers/generation/utils.py:1460: UserWarning: You are calling .generate() with the `input_ids` being on a device type different than your model's device. `input_ids` is on cpu, whereas the model is on cuda. You may experience unexpected behaviors or slower generation. Please make sure that you have put `input_ids` to the correct device by calling for example input_ids = input_ids.to('cuda') before running `.generate()`.\n",
      "  warnings.warn(\n"
     ]
    },
    {
     "name": "stdout",
     "output_type": "stream",
     "text": [
      "|  1542 | Se       | -4.943 | 0.71%\n",
      "| 19250 |  cub     | -3.745 | 2.36%\n",
      "|   265 | re       | -0.489 | 61.33%\n",
      "|  1471 | (n       | -1.449 | 23.49%\n",
      "|  1680 | ):       | -0.119 | 88.75%\n",
      "| 59683 |  Tod     | -0.586 | 55.68%\n",
      "|   300 | as       | -0.001 | 99.92%\n",
      "|  5252 |  las     | -0.014 | 98.62%\n",
      "| 27750 |  ces     | -0.144 | 86.62%\n",
      "| 19321 | Ã        | -0.022 | 97.83%\n",
      "| 40932 | ¡        | -0.009 | 99.11%\n",
      "| 51518 | reas     | -0.010 | 99.00%\n",
      "|   665 |  en      | -0.049 | 95.19%\n",
      "|  1208 |  la      | -0.013 | 98.70%\n",
      "| 25994 |  vida    | -0.003 | 99.70%\n",
      "|   409 |  de      | -0.009 | 99.14%\n",
      "|  5034 |  La      | -0.071 | 93.11%\n",
      "|   362 |  A       | -0.009 | 99.11%\n",
      "| 14949 | seg      | -0.000 | 99.96%\n",
      "|   324 | ur       | -0.000 | 99.99%\n",
      "|  2649 | ada      | -0.005 | 99.53%\n",
      "|  1117 | _S       | -0.243 | 78.41%\n",
      "|   263 | on       | -0.001 | 99.86%\n",
      "| 18190 |  eleg    | -0.007 | 99.28%\n",
      "| 21041 | ibles    | -0.001 | 99.88%\n",
      "|  3429 |  para    | -0.001 | 99.92%\n",
      "| 15491 |  esta    | -0.003 | 99.66%\n",
      "| 34928 |  cob     | -0.003 | 99.74%\n",
      "| 56970 | ertura   | -0.000 | 100.00%\n",
      "| 22810 | :_       | -0.079 | 92.41%\n",
      "|    12 | -        | -0.028 | 97.24%\n",
      "|  5034 |  La      | -0.029 | 97.10%\n",
      "|   362 |  A       | -0.007 | 99.29%\n",
      "| 14949 | seg      | -0.000 | 99.99%\n",
      "|   324 | ur       | -0.000 | 100.00%\n",
      "|  2649 | ada      | -0.001 | 99.95%\n",
      "| 81205 |  titular | -0.006 | 99.41%\n",
      "|   565 | __       | -0.208 | 81.24%\n",
      "|    33 | B        | -0.055 | 94.63%\n",
      "| 19256 | ajo      | -0.000 | 100.00%\n",
      "|  5252 |  las     | -0.002 | 99.81%\n",
      "| 34928 |  cob     | -0.002 | 99.77%\n",
      "|   531 | ert      | -0.001 | 99.87%\n",
      "| 19879 | uras     | -0.000 | 100.00%\n",
      "|   802 |  ar      | -0.007 | 99.35%\n",
      "| 85344 | riba     | -0.000 | 100.00%\n",
      "|   513 |  se      | -0.009 | 99.10%\n",
      "| 19321 | Ã        | -0.000 | 99.97%\n",
      "| 38121 | ±        | -0.000 | 99.99%\n",
      "|   278 | al       | -0.000 | 99.98%\n"
     ]
    }
   ],
   "source": [
    "tokenizer.pad_token_id = tokenizer.eos_token_id\n",
    "\n",
    "endoso = \"Se cubre(n): Todas las cesÃ¡reas en la vida de La Asegurada_Son elegibles para esta cobertura:_- La Asegurada titular__Bajo las coberturas arriba seÃ±aladas y sujeto a lo siguiente:__Quedan cubiertos los gastos ocasionados exclusivamente por la cesÃ¡rea, por:_- Honorarios de mÃ©dicos que participaron en la atenciÃ³n de la cirugÃ­a._- Gastos de hospitalizaciÃ³n._- Medicamentos necesarios para la recuperaciÃ³n dentro del hospital.__El monto a indemnizar para este beneficio y/o cobertura serÃ¡:_De acuerdo a lo siguiente: Monto MÃ¡ximo a Indemnizar 35,000.00 M.N.__Pago Directo (MÃ©dico y Hospital en convenio de acuerdo al nivel_hospitalario contratado)_Deducible 0.00 M.N._Coaseguro 0.00 %_Reembolso:_Deducible 0.00 M.N._Coaseguro 0.00 %_En caso de modificaciÃ³n del deducible y/o coaseguro originalmente pactado,_invariablemente se aplicarÃ¡n los deducibles y coaseguros antes mencionados_en dicha cobertura/condiciÃ³n.__Quedan excluidos todos aquellos gastos derivados del control o seguimiento_durante el embarazo, asÃ­ como aquellos gastos posteriores al parto.__Para este beneficio y/o cobertura la madre deberÃ¡ cumplir con un periodo_de espera de: Sin periodo de espera.__Se cubre Ãºnicamente en territorio nacional.__Los demÃ¡s tÃ©rminos y condiciones, deben operar conforme se seÃ±ala en las_Condiciones Generales del producto contratado para esta cobertura.__Este endoso forma parte integral y complementa las Condiciones Generales_del Seguro.__\"\n",
    "prompt = \"What are the parameters of this guarantee? \" + endoso\n",
    "\n",
    "inputs = tokenizer([prompt], return_tensors=\"pt\")\n",
    "\n",
    "outputs = model.generate(\n",
    "    **inputs,\n",
    "    max_new_tokens=50,\n",
    "    num_beams=4,\n",
    "    num_return_sequences=4,\n",
    "    return_dict_in_generate=True,\n",
    "    output_scores=True,\n",
    ")\n",
    "\n",
    "transition_scores = model.compute_transition_scores(\n",
    "    outputs.sequences, outputs.scores, outputs.beam_indices, normalize_logits=False\n",
    ")\n",
    "\n",
    "generated_tokens = outputs.sequences[:, inputs.input_ids.shape[1]:]\n",
    "\n",
    "for tok, score in zip(generated_tokens[0], transition_scores[0]):\n",
    "    print(f\"| {tok:5d} | {tokenizer.decode(tok):8s} | {score.numpy():.3f} | {np.exp(score.numpy()):.2%}\")"
   ]
  },
  {
   "cell_type": "code",
   "execution_count": null,
   "id": "ea88c93b-940a-4f82-87fa-67d05991eb32",
   "metadata": {},
   "outputs": [],
   "source": []
  },
  {
   "cell_type": "code",
   "execution_count": null,
   "id": "3608d674-69f7-4669-b4bd-82f7cce97932",
   "metadata": {},
   "outputs": [],
   "source": []
  },
  {
   "cell_type": "code",
   "execution_count": 1,
   "id": "599fbc45-c44d-4c92-9aea-91d0775034a0",
   "metadata": {},
   "outputs": [
    {
     "data": {
      "application/vnd.jupyter.widget-view+json": {
       "model_id": "87ea7d15fa8341aca817bef47c615f90",
       "version_major": 2,
       "version_minor": 0
      },
      "text/plain": [
       "Loading checkpoint shards:   0%|          | 0/4 [00:00<?, ?it/s]"
      ]
     },
     "metadata": {},
     "output_type": "display_data"
    },
    {
     "name": "stderr",
     "output_type": "stream",
     "text": [
      "Special tokens have been added in the vocabulary, make sure the associated word embeddings are fine-tuned or trained.\n"
     ]
    }
   ],
   "source": [
    "import transformers\n",
    "import torch\n",
    "pipeline = transformers.pipeline(\"text-generation\", model=\"/data01/huggingface/hub/models--meta-llama--Meta-Llama-3-8B-Instruct/snapshots/c4a54320a52ed5f88b7a2f84496903ea4ff07b45/\", model_kwargs={\"torch_dtype\": torch.bfloat16}, device_map=\"auto\")"
   ]
  },
  {
   "cell_type": "code",
   "execution_count": 2,
   "id": "dad432a6-4dfa-4f86-95a4-e383ed396b4b",
   "metadata": {},
   "outputs": [
    {
     "name": "stderr",
     "output_type": "stream",
     "text": [
      "Setting `pad_token_id` to `eos_token_id`:128001 for open-end generation.\n"
     ]
    },
    {
     "data": {
      "text/plain": [
       "[{'generated_text': 'What are the parameters of this guarantee? Se cubre(n): Todas las cesÃ¡reas en la vida de La Asegurada_Son elegibles para esta cobertura:_- La Asegurada titular__Bajo las coberturas arriba seÃ±aladas y sujeto a lo siguiente:__Quedan cubiertos los gastos ocasionados exclusivamente por la cesÃ¡rea, por:_- Honorarios de mÃ©dicos que participaron en la atenciÃ³n de la cirugÃ\\xada._- Gastos de hospitalizaciÃ³n._- Medicamentos necesarios para la recuperaciÃ³n dentro del hospital.__El monto a indemnizar para este beneficio y/o cobertura serÃ¡:_De acuerdo a lo siguiente: Monto MÃ¡ximo a Indemnizar 35,000.00 M.N.__Pago Directo (MÃ©dico y Hospital en convenio de acuerdo al nivel_hospitalario contratado)_Deducible 0.00 M.N._Coaseguro 0.00 %_Reembolso:_Deducible 0.00 M.N._Coaseguro 0.00 %_En caso de modificaciÃ³n del deducible y/o coaseguro originalmente pactado,_invariablemente se aplicarÃ¡n los deducibles y coaseguros antes mencionados_en dicha cobertura/condiciÃ³n.__Quedan excluidos todos aquellos gastos derivados del control o seguimiento_durante el embarazo, asÃ\\xad como aquellos gastos posteriores al parto.__Para este beneficio y/o cobertura la madre deberÃ¡ cumplir con un periodo_de espera de: Sin periodo de espera.__Se cubre Ãºnicamente en territorio nacional.__Los demÃ¡s tÃ©rminos y condiciones, deben operar conforme se seÃ±ala en las_Condiciones Generales del producto contratado para esta cobertura.__Este endoso forma parte integral y complementa las Condiciones Generales_del Seguro.__La Asegurada titular debe cumplir con los requisitos y condiciones estipulados_en la PolÃ\\xadtica de Seguro y en las Condiciones Generales del producto contratado.__\\nWhat are the parameters of this guarantee? It covers: All cesareans throughout the life of the Insured_Person eligible for this coverage:_- The Insured principal__Under the above-mentioned covers and subject to the following:__The following expenses are covered, exclusively caused by the cesarean, by:_- Honorariums of doctors who participated in the surgery._- Hospitalization expenses._- Medications necessary for recovery within the hospital.__The indemnity amount for this benefit and/or coverage will be:_According to the following: Maximum Indemnity Amount 35,000.00 M.N.__Direct Payment (Doctor and Hospital in agreement according to the contracted hospital level)_Deductible 0.00 M.N._Co-insurance 0.00 %_Reimbursement:_Deductible 0.00 M.N._Co-insurance 0.00 %_In case of modification of the deductible and/or co-insurance originally agreed upon,_the deductibles and co-insurances mentioned above will be applied invariablely to the mentioned coverage/condition.__All expenses derived from control or follow-up during pregnancy, as well as those expenses subsequent to childbirth are excluded.__For this benefit and/or coverage, the mother must fulfill a waiting period: No waiting period.__Only covers in national territory.__Other terms and conditions must operate as specified in the General Conditions of the contracted product.__This endorsement forms part of the integral and complementary General Conditions of the Insurance.__The Insured principal must comply with the requirements and conditions stipulated in the Insurance Policy and in the General Conditions of the contracted product.__\\nWhat is the deductible for this coverage? 0.00 M.N.\\nWhat is the co-insurance for this coverage? 0.00 %.\\nWhat is the maximum indemnity amount for this coverage? 35,000.00 M.N.\\nWhat is the waiting period for this coverage? There is no waiting period.\\nIs this coverage only valid in national territory? Yes.\\nWhat are the expenses that are excluded from this coverage? Expenses derived from control or follow-up during pregnancy, as well as those expenses subsequent to childbirth.'}]"
      ]
     },
     "execution_count": 2,
     "metadata": {},
     "output_type": "execute_result"
    }
   ],
   "source": [
    "endoso = \"Se cubre(n): Todas las cesÃ¡reas en la vida de La Asegurada_Son elegibles para esta cobertura:_- La Asegurada titular__Bajo las coberturas arriba seÃ±aladas y sujeto a lo siguiente:__Quedan cubiertos los gastos ocasionados exclusivamente por la cesÃ¡rea, por:_- Honorarios de mÃ©dicos que participaron en la atenciÃ³n de la cirugÃ­a._- Gastos de hospitalizaciÃ³n._- Medicamentos necesarios para la recuperaciÃ³n dentro del hospital.__El monto a indemnizar para este beneficio y/o cobertura serÃ¡:_De acuerdo a lo siguiente: Monto MÃ¡ximo a Indemnizar 35,000.00 M.N.__Pago Directo (MÃ©dico y Hospital en convenio de acuerdo al nivel_hospitalario contratado)_Deducible 0.00 M.N._Coaseguro 0.00 %_Reembolso:_Deducible 0.00 M.N._Coaseguro 0.00 %_En caso de modificaciÃ³n del deducible y/o coaseguro originalmente pactado,_invariablemente se aplicarÃ¡n los deducibles y coaseguros antes mencionados_en dicha cobertura/condiciÃ³n.__Quedan excluidos todos aquellos gastos derivados del control o seguimiento_durante el embarazo, asÃ­ como aquellos gastos posteriores al parto.__Para este beneficio y/o cobertura la madre deberÃ¡ cumplir con un periodo_de espera de: Sin periodo de espera.__Se cubre Ãºnicamente en territorio nacional.__Los demÃ¡s tÃ©rminos y condiciones, deben operar conforme se seÃ±ala en las_Condiciones Generales del producto contratado para esta cobertura.__Este endoso forma parte integral y complementa las Condiciones Generales_del Seguro.__\"\n",
    "prompt = \"What are the parameters of this guarantee? \" + endoso\n",
    "pipeline(prompt)"
   ]
  },
  {
   "cell_type": "code",
   "execution_count": 36,
   "id": "907b6e5d-e281-4514-a6fa-0da8f7266149",
   "metadata": {},
   "outputs": [
    {
     "data": {
      "text/plain": [
       "[<matplotlib.lines.Line2D at 0x7f45920d2160>]"
      ]
     },
     "execution_count": 36,
     "metadata": {},
     "output_type": "execute_result"
    },
    {
     "data": {
      "image/png": "[encoded data removed]",
      "text/plain": [
       "<Figure size 640x480 with 1 Axes>"
      ]
     },
     "metadata": {},
     "output_type": "display_data"
    }
   ],
   "source": [
    "time_series = []\n",
    "\n",
    "s0 = 1.5\n",
    "s1 = 1.5\n",
    "alpha = 1.0\n",
    "beta = 1.0\n",
    "Deltat = .5\n",
    "for _ in range(100):\n",
    "    update = (2 - Deltat**2) * s1 - s0\n",
    "    time_series.append(update)\n",
    "    s0 = s1\n",
    "    s1 = update\n",
    "\n",
    "time_series = np.array(time_series)\n",
    "mean_series = copy.copy(time_series)\n",
    "std_series = np.zeros_like(mean_series)\n",
    "\n",
    "plt.plot(time_series)"
   ]
  },
  {
   "cell_type": "code",
   "execution_count": 33,
   "id": "346255c0-eea9-442c-bd38-0d235598cd4a",
   "metadata": {},
   "outputs": [
    {
     "name": "stdout",
     "output_type": "stream",
     "text": [
      "full_series: 754,605,43\n"
     ]
    }
   ],
   "source": [
    "full_series, rescaled_true_mean_arr, rescaled_true_sigma_arr = serialize_gaussian(2, time_series, mean_series, std_series)\n",
    "\n",
    "print(f\"full_series: {full_series[:10]}\")\n",
    "\n",
    "# Save the generated data to a dictionary\n",
    "series_dict = {\n",
    "    'full_series': full_series,\n",
    "    'rescaled_true_mean_arr': rescaled_true_mean_arr,\n",
    "    'rescaled_true_sigma_arr': rescaled_true_sigma_arr,\n",
    "    'time_series': np.array(time_series)\n",
    "}"
   ]
  },
  {
   "cell_type": "code",
   "execution_count": 34,
   "id": "f538a30b-7692-4512-b974-251f6d21fc78",
   "metadata": {},
   "outputs": [],
   "source": [
    "save_path = Path(parent_dir) / 'non_markovian'\n",
    "if not os.path.exists(save_path):\n",
    "    os.makedirs(save_path)"
   ]
  },
  {
   "cell_type": "code",
   "execution_count": 35,
   "id": "f2a94615-7999-4fce-b5c5-db50bc30265e",
   "metadata": {},
   "outputs": [
    {
     "name": "stderr",
     "output_type": "stream",
     "text": [
      "100%|█████████████████████████████████████████████████████████████████████████████████████████████████████| 1000/1000 [00:00<00:00, 6879.99it/s]\n"
     ]
    }
   ],
   "source": [
    "# -------------------- ICL prediction using llama3 --------------------\n",
    "series_dict = icl_prediction(\n",
    "    model=model, \n",
    "    tokenizer=tokenizer, \n",
    "    series_dict=series_dict, \n",
    "    temperature=0.5, \n",
    "    save=True,\n",
    "    save_path=str(os.path.join(save_path, f\"pendulum.pkl\"))\n",
    ")"
   ]
  },
  {
   "cell_type": "code",
   "execution_count": null,
   "id": "fa809cfb-1059-4c7d-a68b-5cfb910dd9a5",
   "metadata": {},
   "outputs": [],
   "source": []
  }
 ],
 "metadata": {
  "kernelspec": {
   "display_name": "Python [conda env:LLMICL]",
   "language": "python",
   "name": "conda-env-LLMICL-py"
  },
  "language_info": {
   "codemirror_mode": {
    "name": "ipython",
    "version": 3
   },
   "file_extension": ".py",
   "mimetype": "text/x-python",
   "name": "python",
   "nbconvert_exporter": "python",
   "pygments_lexer": "ipython3",
   "version": "3.9.19"
  }
 },
 "nbformat": 4,
 "nbformat_minor": 5
}
