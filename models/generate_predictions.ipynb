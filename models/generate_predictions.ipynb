{
 "cells": [
  {
   "cell_type": "code",
   "execution_count": 1,
   "metadata": {},
   "outputs": [],
   "source": [
    "continuous_series_names = [\n",
    "                           'brownian_motion', \n",
    "                           'geometric_brownian_motion',\n",
    "                           'noisy_logistic_map',\n",
    "                           'logistic_map',\n",
    "                           'lorenz_system',\n",
    "                           'uncorrelated_gaussian',\n",
    "                           'uncorrelated_uniform'\n",
    "                           ]\n",
    "markov_chain_names = ['markov_chain']\n",
    "\n",
    "import numpy as np\n",
    "\n",
    "### Set up directory\n",
    "import sys\n",
    "import os\n",
    "from pathlib import Path\n",
    "parent_dir = os.path.dirname(os.getcwd())\n",
    "sys.path.append(parent_dir)\n",
    "\n",
    "from tqdm import tqdm\n",
    "import pickle\n",
    "import torch\n",
    "from llama import get_model_and_tokenizer\n",
    "from ICL import MultiResolutionPDF, recursive_refiner, trim_kv_cache\n",
    "\n",
    "# Check if directory exists, if not create it\n",
    "save_path = Path(parent_dir) / 'processed_series'\n",
    "if not os.path.exists(save_path):\n",
    "    os.makedirs(save_path)\n",
    "    \n",
    "# Define the directory where the generated series are stored\n",
    "generated_series_dir = Path(parent_dir) / 'generated_series'"
   ]
  },
  {
   "cell_type": "code",
   "execution_count": 2,
   "metadata": {},
   "outputs": [
    {
     "data": {
      "application/vnd.jupyter.widget-view+json": {
       "model_id": "85f09801f3004938bfd4bcea051e82e8",
       "version_major": 2,
       "version_minor": 0
      },
      "text/plain": [
       "Loading checkpoint shards:   0%|          | 0/3 [00:00<?, ?it/s]"
      ]
     },
     "metadata": {},
     "output_type": "display_data"
    }
   ],
   "source": [
    "def calculate_Markov(full_series, llama_size = '13b'):\n",
    "    '''\n",
    "     This function calculates the multi-resolution probability density function (PDF) for a given series.\n",
    "\n",
    "     Parameters:\n",
    "     full_series (str): The series for which the PDF is to be calculated.\n",
    "     llama_size (str, optional): The size of the llama model. Defaults to '13b'.\n",
    "\n",
    "     Returns:\n",
    "\n",
    "    '''\n",
    "    model, tokenizer = get_model_and_tokenizer(llama_size)\n",
    "    states = sorted(set(full_series))\n",
    "    good_tokens = [tokenizer.convert_tokens_to_ids(state) for state in states]\n",
    "    batch = tokenizer(\n",
    "        [full_series], \n",
    "        return_tensors=\"pt\",\n",
    "        add_special_tokens=True        \n",
    "    )\n",
    "    torch.cuda.empty_cache()\n",
    "    with torch.no_grad():\n",
    "        out = model(batch['input_ids'].cpu())\n",
    "    logit_mat = out['logits']\n",
    "    logit_mat_good = logit_mat[:,:,good_tokens].cpu()\n",
    "\n",
    "    return logit_mat_good\n",
    "\n",
    "model, tokenizer = get_model_and_tokenizer('13b')\n",
    "def calculate_multiPDF(full_series, prec, mode = 'neighbor', refine_depth = 1, llama_size = '13b'):\n",
    "    '''\n",
    "     This function calculates the multi-resolution probability density function (PDF) for a given series.\n",
    "\n",
    "     Parameters:\n",
    "     full_series (str): The series for which the PDF is to be calculated.\n",
    "     prec (int): The precision of the PDF.\n",
    "     mode (str, optional): The mode of calculation. Defaults to 'neighbor'.\n",
    "     refine_depth (int, optional): The depth of refinement for the PDF. Defaults to 1.\n",
    "     llama_size (str, optional): The size of the llama model. Defaults to '13b'.\n",
    "\n",
    "     Returns:\n",
    "     list: A list of PDFs for the series.\n",
    "    '''\n",
    "    if llama_size != '13b':\n",
    "        assert False, \"Llama size must be '13b'\"\n",
    "    good_tokens_str = list(\"0123456789\")\n",
    "    good_tokens = [tokenizer.convert_tokens_to_ids(token) for token in good_tokens_str]\n",
    "    assert refine_depth < prec, \"Refine depth must be less than precision\"\n",
    "    refine_depth = refine_depth - prec\n",
    "    curr = -prec\n",
    "    batch = tokenizer(\n",
    "        [full_series], \n",
    "        return_tensors=\"pt\",\n",
    "        add_special_tokens=True        \n",
    "    )\n",
    "    torch.cuda.empty_cache()\n",
    "    with torch.no_grad():\n",
    "        out = model(batch['input_ids'].cuda(), use_cache=True)\n",
    "        # out = model(batch['input_ids'].cpu(), use_cache=True)\n",
    "    logit_mat = out['logits']\n",
    "    kv_cache_main = out['past_key_values']\n",
    "    logit_mat_good = logit_mat[:,:,good_tokens].clone()\n",
    "    probs = torch.nn.functional.softmax(logit_mat_good[:,1:,:], dim=-1)\n",
    "    \n",
    "    PDF_list = []\n",
    "    comma_locations = np.sort(np.where(np.array(list(full_series)) == ',')[0])\n",
    "\n",
    "    for i in tqdm(range(len(comma_locations))):\n",
    "        PDF = MultiResolutionPDF()\n",
    "        # slice out the number before ith comma\n",
    "        if i == 0:\n",
    "            start_idx = 0\n",
    "        else:\n",
    "            start_idx = comma_locations[i-1]+1\n",
    "        end_idx = comma_locations[i]\n",
    "        num_slice = full_series[start_idx:end_idx]\n",
    "        prob_slice = probs[0,start_idx:end_idx].cpu().numpy()\n",
    "        ### Load hierarchical PDF \n",
    "        PDF.load_from_num_prob(num_slice, prob_slice)\n",
    "        \n",
    "        ### Refine hierarchical PDF\n",
    "        seq = full_series[:end_idx]\n",
    "        # cache and full_series are shifted from beginning, not end\n",
    "        end_idx_neg = end_idx - len(full_series)\n",
    "        ### kv cache contains seq[0:-1]\n",
    "        kv_cache = trim_kv_cache(kv_cache_main, end_idx_neg-1)\n",
    "        recursive_refiner(PDF, seq, curr = curr, main = True, refine_depth = refine_depth, mode = mode, \n",
    "                        kv_cache = kv_cache, model = model, tokenizer = tokenizer, good_tokens=good_tokens)\n",
    "\n",
    "        PDF_list += [PDF]\n",
    "        \n",
    "    # release memory\n",
    "    del logit_mat, kv_cache_main\n",
    "    return PDF_list"
   ]
  },
  {
   "cell_type": "code",
   "execution_count": 3,
   "metadata": {},
   "outputs": [],
   "source": [
    "# Initialize dictionaries to store the data for continuous series and Markov chains\n",
    "continuous_series_task = {}\n",
    "markov_chain_task = {}\n",
    "\n",
    "# Loop through each file in the directory\n",
    "for file in generated_series_dir.iterdir():\n",
    "    # Check if a series is already processed\n",
    "    if not (save_path / file.name).exists():\\\n",
    "        # Extract the series name from the file name\n",
    "        series_name = file.stem.rsplit('_', 1)[0]\n",
    "        # If the series is a continuous series, load the data into the continuous_series_data dictionary\n",
    "        if series_name in continuous_series_names:\n",
    "            continuous_series_task[file.name] = pickle.load(file.open('rb'))\n",
    "        # If the series is a Markov chain, load the data into the markov_chain_data dictionary\n",
    "        elif series_name in markov_chain_names:\n",
    "            markov_chain_task[file.name] = pickle.load(file.open('rb'))\n",
    "        # If the series name is not recognized, raise an exception\n",
    "        # else:\n",
    "        #     raise Exception(f\"Unrecognized series name: {series_name}\")\n",
    "        \n"
   ]
  },
  {
   "cell_type": "code",
   "execution_count": 4,
   "metadata": {},
   "outputs": [
    {
     "name": "stdout",
     "output_type": "stream",
     "text": [
      "dict_keys(['lorenz_system_6.pkl', 'lorenz_system_3.pkl', 'lorenz_system_9.pkl', 'noisy_logistic_map_8.pkl', 'noisy_logistic_map_9.pkl', 'lorenz_system_12.pkl', 'logistic_map_6.pkl', 'logistic_map_5.pkl', 'logistic_map_10.pkl', 'logistic_map_14.pkl', 'brownian_motion_8.pkl', 'brownian_motion_5.pkl', 'lorenz_system_11.pkl', 'lorenz_system_14.pkl', 'noisy_logistic_map_7.pkl', 'logistic_map_9.pkl', 'logistic_map_11.pkl', 'brownian_motion_11.pkl', 'lorenz_system_10.pkl', 'brownian_motion_9.pkl', 'lorenz_system_19.pkl', 'lorenz_system_18.pkl', 'noisy_logistic_map_5.pkl', 'logistic_map_8.pkl', 'lorenz_system_5.pkl', 'lorenz_system_13.pkl', 'brownian_motion_7.pkl', 'logistic_map_13.pkl', 'brownian_motion_4.pkl', 'lorenz_system_16.pkl', 'logistic_map_12.pkl', 'noisy_logistic_map_6.pkl', 'lorenz_system_7.pkl', 'lorenz_system_8.pkl', 'logistic_map_7.pkl', 'brownian_motion_6.pkl', 'lorenz_system_15.pkl', 'lorenz_system_17.pkl', 'lorenz_system_4.pkl'])\n",
      "dict_keys([])\n"
     ]
    }
   ],
   "source": [
    "print(continuous_series_task.keys())\n",
    "print(markov_chain_task.keys())"
   ]
  },
  {
   "cell_type": "markdown",
   "metadata": {},
   "source": [
    "### Analyze Multi Digit series"
   ]
  },
  {
   "cell_type": "code",
   "execution_count": 5,
   "metadata": {},
   "outputs": [
    {
     "name": "stdout",
     "output_type": "stream",
     "text": [
      "Processing  logistic_map_10.pkl\n"
     ]
    },
    {
     "name": "stderr",
     "output_type": "stream",
     "text": [
      "100%|██████████| 1000/1000 [27:03<00:00,  1.62s/it]\n"
     ]
    },
    {
     "name": "stdout",
     "output_type": "stream",
     "text": [
      "Processing  logistic_map_11.pkl\n"
     ]
    },
    {
     "name": "stderr",
     "output_type": "stream",
     "text": [
      "100%|██████████| 1000/1000 [27:06<00:00,  1.63s/it]\n"
     ]
    },
    {
     "name": "stdout",
     "output_type": "stream",
     "text": [
      "Processing  logistic_map_12.pkl\n"
     ]
    },
    {
     "name": "stderr",
     "output_type": "stream",
     "text": [
      "100%|██████████| 1000/1000 [27:09<00:00,  1.63s/it]\n"
     ]
    },
    {
     "name": "stdout",
     "output_type": "stream",
     "text": [
      "Processing  logistic_map_13.pkl\n"
     ]
    },
    {
     "name": "stderr",
     "output_type": "stream",
     "text": [
      "100%|██████████| 1000/1000 [27:09<00:00,  1.63s/it]\n"
     ]
    },
    {
     "name": "stdout",
     "output_type": "stream",
     "text": [
      "Processing  logistic_map_14.pkl\n"
     ]
    },
    {
     "name": "stderr",
     "output_type": "stream",
     "text": [
      "100%|██████████| 1000/1000 [27:09<00:00,  1.63s/it]\n"
     ]
    },
    {
     "name": "stdout",
     "output_type": "stream",
     "text": [
      "Processing  logistic_map_5.pkl\n"
     ]
    },
    {
     "name": "stderr",
     "output_type": "stream",
     "text": [
      "100%|██████████| 1000/1000 [27:09<00:00,  1.63s/it]\n"
     ]
    },
    {
     "name": "stdout",
     "output_type": "stream",
     "text": [
      "Processing  logistic_map_6.pkl\n"
     ]
    },
    {
     "name": "stderr",
     "output_type": "stream",
     "text": [
      "  0%|          | 4/1000 [00:04<20:24,  1.23s/it]\n"
     ]
    },
    {
     "ename": "KeyboardInterrupt",
     "evalue": "",
     "output_type": "error",
     "traceback": [
      "\u001b[0;31m---------------------------------------------------------------------------\u001b[0m",
      "\u001b[0;31mKeyboardInterrupt\u001b[0m                         Traceback (most recent call last)",
      "\u001b[1;32m/home/admin-quad/LLM/llmICL/models/generate_predictions.ipynb Cell 6\u001b[0m line \u001b[0;36m1\n\u001b[1;32m      <a href='vscode-notebook-cell://ssh-remote%2B128.84.245.250/home/admin-quad/LLM/llmICL/models/generate_predictions.ipynb#W5sdnNjb2RlLXJlbW90ZQ%3D%3D?line=7'>8</a>\u001b[0m llama_size \u001b[39m=\u001b[39m series_dict[\u001b[39m'\u001b[39m\u001b[39mllama_size\u001b[39m\u001b[39m'\u001b[39m]\n\u001b[1;32m      <a href='vscode-notebook-cell://ssh-remote%2B128.84.245.250/home/admin-quad/LLM/llmICL/models/generate_predictions.ipynb#W5sdnNjb2RlLXJlbW90ZQ%3D%3D?line=8'>9</a>\u001b[0m mode \u001b[39m=\u001b[39m series_dict[\u001b[39m'\u001b[39m\u001b[39mmode\u001b[39m\u001b[39m'\u001b[39m]\n\u001b[0;32m---> <a href='vscode-notebook-cell://ssh-remote%2B128.84.245.250/home/admin-quad/LLM/llmICL/models/generate_predictions.ipynb#W5sdnNjb2RlLXJlbW90ZQ%3D%3D?line=9'>10</a>\u001b[0m PDF_list \u001b[39m=\u001b[39m calculate_multiPDF(full_series, prec, mode \u001b[39m=\u001b[39m mode, refine_depth \u001b[39m=\u001b[39m refine_depth, llama_size \u001b[39m=\u001b[39m llama_size)\n\u001b[1;32m     <a href='vscode-notebook-cell://ssh-remote%2B128.84.245.250/home/admin-quad/LLM/llmICL/models/generate_predictions.ipynb#W5sdnNjb2RlLXJlbW90ZQ%3D%3D?line=10'>11</a>\u001b[0m series_dict[\u001b[39m'\u001b[39m\u001b[39mPDF_list\u001b[39m\u001b[39m'\u001b[39m] \u001b[39m=\u001b[39m PDF_list\n\u001b[1;32m     <a href='vscode-notebook-cell://ssh-remote%2B128.84.245.250/home/admin-quad/LLM/llmICL/models/generate_predictions.ipynb#W5sdnNjb2RlLXJlbW90ZQ%3D%3D?line=11'>12</a>\u001b[0m save_name \u001b[39m=\u001b[39m os\u001b[39m.\u001b[39mpath\u001b[39m.\u001b[39mjoin(save_path, series_name)\n",
      "\u001b[1;32m/home/admin-quad/LLM/llmICL/models/generate_predictions.ipynb Cell 6\u001b[0m line \u001b[0;36m8\n\u001b[1;32m     <a href='vscode-notebook-cell://ssh-remote%2B128.84.245.250/home/admin-quad/LLM/llmICL/models/generate_predictions.ipynb#W5sdnNjb2RlLXJlbW90ZQ%3D%3D?line=82'>83</a>\u001b[0m     \u001b[39m### kv cache contains seq[0:-1]\u001b[39;00m\n\u001b[1;32m     <a href='vscode-notebook-cell://ssh-remote%2B128.84.245.250/home/admin-quad/LLM/llmICL/models/generate_predictions.ipynb#W5sdnNjb2RlLXJlbW90ZQ%3D%3D?line=83'>84</a>\u001b[0m     kv_cache \u001b[39m=\u001b[39m trim_kv_cache(kv_cache_main, end_idx_neg\u001b[39m-\u001b[39m\u001b[39m1\u001b[39m)\n\u001b[0;32m---> <a href='vscode-notebook-cell://ssh-remote%2B128.84.245.250/home/admin-quad/LLM/llmICL/models/generate_predictions.ipynb#W5sdnNjb2RlLXJlbW90ZQ%3D%3D?line=84'>85</a>\u001b[0m     recursive_refiner(PDF, seq, curr \u001b[39m=\u001b[39m curr, main \u001b[39m=\u001b[39m \u001b[39mTrue\u001b[39;00m, refine_depth \u001b[39m=\u001b[39m refine_depth, mode \u001b[39m=\u001b[39m mode, \n\u001b[1;32m     <a href='vscode-notebook-cell://ssh-remote%2B128.84.245.250/home/admin-quad/LLM/llmICL/models/generate_predictions.ipynb#W5sdnNjb2RlLXJlbW90ZQ%3D%3D?line=85'>86</a>\u001b[0m                     kv_cache \u001b[39m=\u001b[39m kv_cache, model \u001b[39m=\u001b[39m model, tokenizer \u001b[39m=\u001b[39m tokenizer, good_tokens\u001b[39m=\u001b[39mgood_tokens)\n\u001b[1;32m     <a href='vscode-notebook-cell://ssh-remote%2B128.84.245.250/home/admin-quad/LLM/llmICL/models/generate_predictions.ipynb#W5sdnNjb2RlLXJlbW90ZQ%3D%3D?line=87'>88</a>\u001b[0m     PDF_list \u001b[39m+\u001b[39m\u001b[39m=\u001b[39m [PDF]\n\u001b[1;32m     <a href='vscode-notebook-cell://ssh-remote%2B128.84.245.250/home/admin-quad/LLM/llmICL/models/generate_predictions.ipynb#W5sdnNjb2RlLXJlbW90ZQ%3D%3D?line=89'>90</a>\u001b[0m \u001b[39m# release memory\u001b[39;00m\n",
      "File \u001b[0;32m~/LLM/llmICL/models/ICL.py:48\u001b[0m, in \u001b[0;36mrecursive_refiner\u001b[0;34m(PDF, seq, curr, refine_depth, main, mode, model, tokenizer, good_tokens, kv_cache)\u001b[0m\n\u001b[1;32m     46\u001b[0m         \u001b[39mif\u001b[39;00m alt_digit \u001b[39m!=\u001b[39m \u001b[39mint\u001b[39m(main_digit):\n\u001b[1;32m     47\u001b[0m             alt_seq \u001b[39m=\u001b[39m trimmed_seq \u001b[39m+\u001b[39m \u001b[39mstr\u001b[39m(alt_digit)\n\u001b[0;32m---> 48\u001b[0m             recursive_refiner(PDF, alt_seq, curr, refine_depth, main \u001b[39m=\u001b[39m \u001b[39mFalse\u001b[39;00m, mode \u001b[39m=\u001b[39m \u001b[39m\"\u001b[39m\u001b[39mall\u001b[39m\u001b[39m\"\u001b[39m,\n\u001b[1;32m     49\u001b[0m                               model \u001b[39m=\u001b[39m model, tokenizer \u001b[39m=\u001b[39m tokenizer, good_tokens\u001b[39m=\u001b[39mgood_tokens, \n\u001b[1;32m     50\u001b[0m                               kv_cache \u001b[39m=\u001b[39m trimmed_kv_cache)   \n\u001b[1;32m     52\u001b[0m \u001b[39mif\u001b[39;00m curr \u001b[39m<\u001b[39m refine_depth \u001b[39m-\u001b[39m \u001b[39m1\u001b[39m:\n\u001b[1;32m     53\u001b[0m     \u001b[39m# skip to next main branch\u001b[39;00m\n\u001b[1;32m     54\u001b[0m     \u001b[39m# no need to trim cache\u001b[39;00m\n\u001b[1;32m     55\u001b[0m     recursive_refiner(PDF, seq, curr\u001b[39m+\u001b[39m\u001b[39m1\u001b[39m, refine_depth, mode \u001b[39m=\u001b[39m \u001b[39m\"\u001b[39m\u001b[39mall\u001b[39m\u001b[39m\"\u001b[39m,\n\u001b[1;32m     56\u001b[0m                       model \u001b[39m=\u001b[39m model, tokenizer \u001b[39m=\u001b[39m tokenizer, main \u001b[39m=\u001b[39m \u001b[39mTrue\u001b[39;00m, good_tokens\u001b[39m=\u001b[39mgood_tokens,\n\u001b[1;32m     57\u001b[0m                       kv_cache \u001b[39m=\u001b[39m kv_cache)\n",
      "File \u001b[0;32m~/LLM/llmICL/models/ICL.py:60\u001b[0m, in \u001b[0;36mrecursive_refiner\u001b[0;34m(PDF, seq, curr, refine_depth, main, mode, model, tokenizer, good_tokens, kv_cache)\u001b[0m\n\u001b[1;32m     55\u001b[0m         recursive_refiner(PDF, seq, curr\u001b[39m+\u001b[39m\u001b[39m1\u001b[39m, refine_depth, mode \u001b[39m=\u001b[39m \u001b[39m\"\u001b[39m\u001b[39mall\u001b[39m\u001b[39m\"\u001b[39m,\n\u001b[1;32m     56\u001b[0m                           model \u001b[39m=\u001b[39m model, tokenizer \u001b[39m=\u001b[39m tokenizer, main \u001b[39m=\u001b[39m \u001b[39mTrue\u001b[39;00m, good_tokens\u001b[39m=\u001b[39mgood_tokens,\n\u001b[1;32m     57\u001b[0m                           kv_cache \u001b[39m=\u001b[39m kv_cache)\n\u001b[1;32m     58\u001b[0m \u001b[39melse\u001b[39;00m:\n\u001b[1;32m     59\u001b[0m     \u001b[39m# ready to evaluate\u001b[39;00m\n\u001b[0;32m---> 60\u001b[0m     probs, kv_cache_new \u001b[39m=\u001b[39m next_token_prob_from_series(seq, kv_cache \u001b[39m=\u001b[39m kv_cache, model \u001b[39m=\u001b[39m model, tokenizer\u001b[39m=\u001b[39mtokenizer, good_tokens\u001b[39m=\u001b[39mgood_tokens)\n\u001b[1;32m     61\u001b[0m     last_comma_location \u001b[39m=\u001b[39m seq\u001b[39m.\u001b[39mrfind(\u001b[39m'\u001b[39m\u001b[39m,\u001b[39m\u001b[39m'\u001b[39m)\n\u001b[1;32m     62\u001b[0m     num_slice \u001b[39m=\u001b[39m seq[last_comma_location\u001b[39m+\u001b[39m\u001b[39m1\u001b[39m:]\n",
      "File \u001b[0;32m~/LLM/llmICL/models/ICL.py:133\u001b[0m, in \u001b[0;36mnext_token_prob_from_series\u001b[0;34m(full_series, model, tokenizer, good_tokens, T, kv_cache, load_cache_to_cpu)\u001b[0m\n\u001b[1;32m    131\u001b[0m \u001b[39melse\u001b[39;00m:\n\u001b[1;32m    132\u001b[0m     kv_cache_new \u001b[39m=\u001b[39m out[\u001b[39m'\u001b[39m\u001b[39mpast_key_values\u001b[39m\u001b[39m'\u001b[39m]\n\u001b[0;32m--> 133\u001b[0m probs \u001b[39m=\u001b[39m torch\u001b[39m.\u001b[39mnn\u001b[39m.\u001b[39mfunctional\u001b[39m.\u001b[39msoftmax(logit_mat[\u001b[39m0\u001b[39m,\u001b[39m-\u001b[39m\u001b[39m1\u001b[39m,good_tokens]\u001b[39m.\u001b[39mclone()\u001b[39m.\u001b[39mcpu(), dim \u001b[39m=\u001b[39m \u001b[39m0\u001b[39m)\u001b[39m.\u001b[39mnumpy()\n\u001b[1;32m    134\u001b[0m \u001b[39mreturn\u001b[39;00m (probs, kv_cache_new)\n",
      "\u001b[0;31mKeyboardInterrupt\u001b[0m: "
     ]
    }
   ],
   "source": [
    "for series_name, series_dict in sorted(continuous_series_task.items()):\n",
    "    prec = series_dict['prec']\n",
    "    if prec == 2:\n",
    "        print(\"Processing \", series_name)\n",
    "        full_series = series_dict['full_series']\n",
    "        prec = series_dict['prec']\n",
    "        refine_depth = series_dict['refine_depth']\n",
    "        llama_size = series_dict['llama_size']\n",
    "        mode = series_dict['mode']\n",
    "        PDF_list = calculate_multiPDF(full_series, prec, mode = mode, refine_depth = refine_depth, llama_size = llama_size)\n",
    "        series_dict['PDF_list'] = PDF_list\n",
    "        save_name = os.path.join(save_path, series_name)\n",
    "        with open(save_name, 'wb') as f:\n",
    "            pickle.dump(series_dict, f)\n"
   ]
  },
  {
   "cell_type": "markdown",
   "metadata": {},
   "source": [
    "### Analyze Markov Series"
   ]
  },
  {
   "cell_type": "code",
   "execution_count": 8,
   "metadata": {},
   "outputs": [],
   "source": [
    "for series_name, series_dict in sorted(markov_chain_task.items()):\n",
    "    print(\"Processing \", series_name)\n",
    "    full_series = series_dict['full_series']\n",
    "    llama_size = series_dict['llama_size']\n",
    "    logit_mat_good = calculate_Markov(full_series, llama_size = llama_size)    \n",
    "    series_dict['logit_mat_good'] = logit_mat_good\n",
    "    save_name = os.path.join(save_path, series_name)\n",
    "    with open(save_name, 'wb') as f:\n",
    "        pickle.dump(series_dict, f)\n"
   ]
  },
  {
   "cell_type": "code",
   "execution_count": null,
   "metadata": {},
   "outputs": [],
   "source": []
  }
 ],
 "metadata": {
  "kernelspec": {
   "display_name": "LLM",
   "language": "python",
   "name": "python3"
  },
  "language_info": {
   "codemirror_mode": {
    "name": "ipython",
    "version": 3
   },
   "file_extension": ".py",
   "mimetype": "text/x-python",
   "name": "python",
   "nbconvert_exporter": "python",
   "pygments_lexer": "ipython3",
   "version": "3.11.4"
  }
 },
 "nbformat": 4,
 "nbformat_minor": 2
}
